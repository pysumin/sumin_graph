{
 "cells": [
  {
   "cell_type": "code",
   "execution_count": 8,
   "id": "6cf5fa2d-b77f-4e34-a3d5-af94a2787cbb",
   "metadata": {},
   "outputs": [],
   "source": [
    "from sklearn import datasets\n",
    "import pandas as pd\n",
    "import matplotlib.pyplot as plt\n",
    "import numpy as np\n",
    "from sklearn.preprocessing import LabelEncoder \n",
    "import plotly.graph_objs as go \n",
    "\n",
    "df = pd.read_csv(\"https://raw.githubusercontent.com/bcdunbar/datasets/master/iris.csv\")\n",
    "y_name = 'species'"
   ]
  },
  {
   "cell_type": "code",
   "execution_count": 2,
   "id": "992c876b-11d7-44e5-8bfc-304bcf17d29c",
   "metadata": {},
   "outputs": [],
   "source": [
    "\n",
    "def pcp2 (df, y_name):\n",
    "    clsnum = 10  #범주가 이거보다 많으면 이걸로 퉁침 \n",
    "\n",
    "    q_labels = [i/clsnum for i in range(clsnum)] \n",
    "    dims_co, dims_co_le, dims_ca = [], [], []    #세가지 그래프에 대한 축 리스트\n",
    "\n",
    "    colorscale = [ [0, '#00868B'], [0.5, 'gray'], [1, 'red']   ]\n",
    "\n",
    "    for col in df.columns:\n",
    "        cates = df[col].unique() #컬럼에서 유일값 추출\n",
    "        cates_num = len(cates) #유일값의 개수\n",
    "\n",
    "        if df[col].dtype== 'object': #범주형 컬럼일 경우\n",
    "\n",
    "            #기본형 - 수치로 바꿔야함\n",
    "            value2dummy = dict(zip(cates, range(cates_num))) \n",
    "            df[col+'q'] = [value2dummy[i] for i in df[col]] #\n",
    "            dim_co= dict( label=col \n",
    "                        , tickvals=list(value2dummy.values())\n",
    "                        , ticktext=list(value2dummy.keys()) \n",
    "                        , values=df[col+'q']    )\n",
    "\n",
    "            #순서형 - 등수 매기고 수치로 바꿔야함\n",
    "            dim_co_le = dict( label=col \n",
    "                             , tickvals=list(value2dummy.values()) \n",
    "                             , ticktext=list(value2dummy.keys() )\n",
    "                             , values=df[col+'q']   )\n",
    "\n",
    "            #범주형 - 범주형으로 바꿔야함\n",
    "            dim_ca = dict( label=col \n",
    "                          , ticktext=list(value2dummy.keys()) \n",
    "                          , values=df[col+'q'] \n",
    "                          , categoryorder = 'array')\n",
    "\n",
    "        else:   # 수치형 컬럼이면\n",
    "\n",
    "            #기본형 - 수치로 바꿔야함\n",
    "            dim_co = dict( label=col ,values=df[col]    )\n",
    "\n",
    "            #순서형\n",
    "            le=LabelEncoder()\n",
    "            df_temp = le.fit_transform(df[col]) #순서를 매김\n",
    "            dim_co_le = dict( label=col\n",
    "                            ,values=df_temp )\n",
    "\n",
    "            #범주형\n",
    "            if cates_num > clsnum :  #유일값이 너무 많으면\n",
    "                df[col+'q'] = pd.qcut(df[col], clsnum, labels = False, duplicates = 'drop') #구간으로 나눔\n",
    "            else: df[col+'q'] = df[col].astype('category')  #같은수가 반복되면 그냥 사용\n",
    "            dim_ca = dict( label = col\n",
    "                            , values = df[col+'q']\n",
    "                            , categoryorder = 'category descending')\n",
    "            \n",
    "        dims_co.append(dim_co)\n",
    "        dims_co_le.append(dim_co_le)\n",
    "        dims_ca.append(dim_ca)\n",
    "\n",
    "    #기본형\n",
    "    fig_co = go.Figure(\n",
    "        data=go.Parcoords( \n",
    "            line = dict( \n",
    "                color = df[y_name+'q']\n",
    "                ,colorscale = colorscale    )\n",
    "            , dimensions = dims_co \n",
    "            , labelfont = dict(size=14) \n",
    "            , tickfont = dict(size = 12) \n",
    "            , unselected = dict(line = dict(color = 'lightgray', opacity= 0.3))\n",
    "        )\n",
    "        , layout=go.Layout( \n",
    "            height=300 \n",
    "            , margin={\"r\": 100, \"t\": 50, \"l\": 100, \"b\": 10}\n",
    "        )\n",
    "    )\n",
    "\n",
    "    fig_le = go.Figure(\n",
    "        data=go.Parcoords( \n",
    "            line = dict( \n",
    "                color = df[y_name+'q']\n",
    "                , colorscale = colorscale   )\n",
    "            , dimensions = dims_co_le\n",
    "            , labelfont = dict(size=14) \n",
    "            , tickfont = dict(size = 12)\n",
    "            , unselected = dict(line = dict(color = 'gray', opacity= 0.3))\n",
    "        )\n",
    "        , layout = go.Layout( \n",
    "            height=300 \n",
    "            ,margin={\"r\": 100, \"t\": 10, \"l\": 100, \"b\": 10}  \n",
    "        )\n",
    "    )\n",
    "\n",
    "    fig_ca = go.Figure(\n",
    "        data = go.Parcats(\n",
    "            line = dict(\n",
    "                color = df[y_name+'q']\n",
    "                , colorscale = colorscale\n",
    "                , shape = 'hspline'     )\n",
    "            ,dimensions=dims_ca\n",
    "        )\n",
    "        , layout=go.Layout(\n",
    "            height=300 \n",
    "            ,margin={\"r\": 50, \"t\": 20, \"l\": 50, \"b\": 10}    \n",
    "        )\n",
    "    )\n",
    "\n",
    "    fig1 = go.FigureWidget(fig_co)\n",
    "    fig2 = go.FigureWidget(fig_le)\n",
    "    fig3 = go.FigureWidget(fig_ca)\n",
    "\n",
    "    return fig_co"
   ]
  },
  {
   "cell_type": "code",
   "execution_count": 9,
   "id": "65f00dd8",
   "metadata": {},
   "outputs": [],
   "source": [
    "a = pcp2(df, 'species')"
   ]
  },
  {
   "cell_type": "code",
   "execution_count": 10,
   "id": "9a61a337",
   "metadata": {},
   "outputs": [
    {
     "data": {
      "application/vnd.plotly.v1+json": {
       "config": {
        "plotlyServerURL": "https://plot.ly"
       },
       "data": [
        {
         "dimensions": [
          {
           "categoryorder": "category descending",
           "label": "sepal_length",
           "values": [
            2,
            1,
            0,
            0,
            1,
            3,
            0,
            1,
            0,
            1,
            3,
            0,
            0,
            0,
            4,
            4,
            3,
            2,
            4,
            2,
            3,
            2,
            0,
            2,
            0,
            1,
            1,
            2,
            2,
            0,
            0,
            3,
            2,
            3,
            1,
            1,
            3,
            1,
            0,
            2,
            1,
            0,
            0,
            1,
            2,
            0,
            2,
            0,
            3,
            1,
            9,
            7,
            8,
            3,
            7,
            4,
            6,
            1,
            8,
            2,
            1,
            5,
            5,
            5,
            3,
            8,
            3,
            4,
            6,
            3,
            5,
            5,
            6,
            5,
            7,
            8,
            8,
            8,
            5,
            4,
            3,
            3,
            4,
            5,
            3,
            5,
            8,
            6,
            3,
            3,
            3,
            5,
            4,
            1,
            3,
            4,
            4,
            6,
            2,
            4,
            6,
            4,
            9,
            6,
            7,
            9,
            1,
            9,
            8,
            9,
            7,
            7,
            8,
            4,
            4,
            7,
            7,
            9,
            9,
            5,
            8,
            3,
            9,
            6,
            8,
            9,
            6,
            5,
            7,
            9,
            9,
            9,
            7,
            6,
            5,
            9,
            6,
            7,
            5,
            8,
            8,
            8,
            4,
            8,
            8,
            8,
            6,
            7,
            6,
            5
           ]
          },
          {
           "categoryorder": "category descending",
           "label": "sepal_width",
           "values": [
            7,
            3,
            5,
            4,
            7,
            8,
            6,
            6,
            3,
            4,
            8,
            6,
            3,
            3,
            8,
            8,
            8,
            7,
            8,
            8,
            6,
            8,
            7,
            6,
            6,
            3,
            6,
            7,
            6,
            5,
            4,
            6,
            8,
            8,
            4,
            5,
            7,
            4,
            3,
            6,
            7,
            0,
            5,
            7,
            8,
            3,
            8,
            5,
            8,
            6,
            5,
            5,
            4,
            0,
            2,
            2,
            6,
            0,
            3,
            1,
            0,
            3,
            0,
            3,
            3,
            4,
            3,
            1,
            0,
            0,
            5,
            2,
            0,
            2,
            3,
            3,
            2,
            3,
            3,
            1,
            0,
            0,
            1,
            1,
            3,
            6,
            4,
            0,
            3,
            0,
            1,
            3,
            1,
            0,
            1,
            3,
            3,
            3,
            0,
            2,
            6,
            1,
            3,
            3,
            3,
            3,
            0,
            3,
            0,
            7,
            5,
            1,
            3,
            0,
            2,
            5,
            3,
            8,
            1,
            0,
            5,
            2,
            2,
            1,
            6,
            5,
            2,
            3,
            2,
            3,
            2,
            8,
            2,
            2,
            1,
            3,
            6,
            4,
            3,
            4,
            4,
            4,
            1,
            5,
            6,
            3,
            0,
            3,
            6,
            3
           ]
          },
          {
           "categoryorder": "category descending",
           "label": "petal_length",
           "values": [
            0,
            0,
            0,
            1,
            0,
            2,
            0,
            1,
            0,
            1,
            1,
            2,
            0,
            0,
            0,
            1,
            0,
            0,
            2,
            1,
            2,
            1,
            0,
            2,
            3,
            2,
            2,
            1,
            0,
            2,
            2,
            1,
            1,
            0,
            1,
            0,
            0,
            1,
            0,
            1,
            0,
            0,
            0,
            2,
            3,
            0,
            2,
            0,
            1,
            0,
            6,
            5,
            6,
            4,
            5,
            5,
            6,
            3,
            5,
            3,
            3,
            4,
            4,
            6,
            3,
            5,
            5,
            4,
            5,
            3,
            6,
            4,
            6,
            6,
            4,
            5,
            6,
            6,
            5,
            3,
            3,
            3,
            3,
            7,
            5,
            5,
            6,
            5,
            4,
            4,
            5,
            5,
            4,
            3,
            4,
            4,
            4,
            4,
            3,
            4,
            9,
            7,
            9,
            8,
            8,
            9,
            5,
            9,
            8,
            9,
            7,
            7,
            8,
            6,
            7,
            7,
            8,
            9,
            9,
            6,
            8,
            6,
            9,
            6,
            8,
            9,
            6,
            6,
            8,
            8,
            9,
            9,
            8,
            7,
            8,
            9,
            8,
            8,
            6,
            8,
            8,
            7,
            7,
            9,
            8,
            7,
            6,
            7,
            8,
            7
           ]
          },
          {
           "categoryorder": "category descending",
           "label": "petal_width",
           "values": [
            0,
            0,
            0,
            0,
            0,
            1,
            1,
            0,
            0,
            0,
            0,
            0,
            0,
            0,
            0,
            1,
            1,
            1,
            1,
            1,
            0,
            1,
            0,
            2,
            0,
            0,
            1,
            0,
            0,
            0,
            0,
            1,
            0,
            0,
            0,
            0,
            0,
            0,
            0,
            0,
            1,
            1,
            0,
            2,
            1,
            1,
            0,
            0,
            0,
            0,
            4,
            4,
            4,
            3,
            4,
            3,
            5,
            2,
            3,
            4,
            2,
            4,
            2,
            4,
            3,
            4,
            4,
            2,
            4,
            2,
            5,
            3,
            4,
            3,
            3,
            4,
            4,
            5,
            4,
            2,
            2,
            2,
            3,
            5,
            4,
            5,
            4,
            3,
            3,
            3,
            3,
            4,
            3,
            2,
            3,
            3,
            3,
            3,
            2,
            3,
            8,
            6,
            7,
            5,
            7,
            7,
            5,
            5,
            5,
            8,
            7,
            6,
            7,
            7,
            8,
            8,
            5,
            7,
            8,
            4,
            8,
            7,
            7,
            5,
            7,
            5,
            5,
            5,
            7,
            5,
            6,
            7,
            7,
            4,
            4,
            8,
            8,
            5,
            5,
            7,
            8,
            8,
            6,
            8,
            8,
            8,
            6,
            7,
            8,
            5
           ]
          },
          {
           "categoryorder": "array",
           "label": "species",
           "ticktext": [
            "setosa",
            "versicolor",
            "virginica"
           ],
           "values": [
            0,
            0,
            0,
            0,
            0,
            0,
            0,
            0,
            0,
            0,
            0,
            0,
            0,
            0,
            0,
            0,
            0,
            0,
            0,
            0,
            0,
            0,
            0,
            0,
            0,
            0,
            0,
            0,
            0,
            0,
            0,
            0,
            0,
            0,
            0,
            0,
            0,
            0,
            0,
            0,
            0,
            0,
            0,
            0,
            0,
            0,
            0,
            0,
            0,
            0,
            1,
            1,
            1,
            1,
            1,
            1,
            1,
            1,
            1,
            1,
            1,
            1,
            1,
            1,
            1,
            1,
            1,
            1,
            1,
            1,
            1,
            1,
            1,
            1,
            1,
            1,
            1,
            1,
            1,
            1,
            1,
            1,
            1,
            1,
            1,
            1,
            1,
            1,
            1,
            1,
            1,
            1,
            1,
            1,
            1,
            1,
            1,
            1,
            1,
            1,
            2,
            2,
            2,
            2,
            2,
            2,
            2,
            2,
            2,
            2,
            2,
            2,
            2,
            2,
            2,
            2,
            2,
            2,
            2,
            2,
            2,
            2,
            2,
            2,
            2,
            2,
            2,
            2,
            2,
            2,
            2,
            2,
            2,
            2,
            2,
            2,
            2,
            2,
            2,
            2,
            2,
            2,
            2,
            2,
            2,
            2,
            2,
            2,
            2,
            2
           ]
          },
          {
           "categoryorder": "category descending",
           "label": "species_id",
           "values": [
            1,
            1,
            1,
            1,
            1,
            1,
            1,
            1,
            1,
            1,
            1,
            1,
            1,
            1,
            1,
            1,
            1,
            1,
            1,
            1,
            1,
            1,
            1,
            1,
            1,
            1,
            1,
            1,
            1,
            1,
            1,
            1,
            1,
            1,
            1,
            1,
            1,
            1,
            1,
            1,
            1,
            1,
            1,
            1,
            1,
            1,
            1,
            1,
            1,
            1,
            2,
            2,
            2,
            2,
            2,
            2,
            2,
            2,
            2,
            2,
            2,
            2,
            2,
            2,
            2,
            2,
            2,
            2,
            2,
            2,
            2,
            2,
            2,
            2,
            2,
            2,
            2,
            2,
            2,
            2,
            2,
            2,
            2,
            2,
            2,
            2,
            2,
            2,
            2,
            2,
            2,
            2,
            2,
            2,
            2,
            2,
            2,
            2,
            2,
            2,
            3,
            3,
            3,
            3,
            3,
            3,
            3,
            3,
            3,
            3,
            3,
            3,
            3,
            3,
            3,
            3,
            3,
            3,
            3,
            3,
            3,
            3,
            3,
            3,
            3,
            3,
            3,
            3,
            3,
            3,
            3,
            3,
            3,
            3,
            3,
            3,
            3,
            3,
            3,
            3,
            3,
            3,
            3,
            3,
            3,
            3,
            3,
            3,
            3,
            3
           ]
          }
         ],
         "line": {
          "color": [
           0,
           0,
           0,
           0,
           0,
           0,
           0,
           0,
           0,
           0,
           0,
           0,
           0,
           0,
           0,
           0,
           0,
           0,
           0,
           0,
           0,
           0,
           0,
           0,
           0,
           0,
           0,
           0,
           0,
           0,
           0,
           0,
           0,
           0,
           0,
           0,
           0,
           0,
           0,
           0,
           0,
           0,
           0,
           0,
           0,
           0,
           0,
           0,
           0,
           0,
           1,
           1,
           1,
           1,
           1,
           1,
           1,
           1,
           1,
           1,
           1,
           1,
           1,
           1,
           1,
           1,
           1,
           1,
           1,
           1,
           1,
           1,
           1,
           1,
           1,
           1,
           1,
           1,
           1,
           1,
           1,
           1,
           1,
           1,
           1,
           1,
           1,
           1,
           1,
           1,
           1,
           1,
           1,
           1,
           1,
           1,
           1,
           1,
           1,
           1,
           2,
           2,
           2,
           2,
           2,
           2,
           2,
           2,
           2,
           2,
           2,
           2,
           2,
           2,
           2,
           2,
           2,
           2,
           2,
           2,
           2,
           2,
           2,
           2,
           2,
           2,
           2,
           2,
           2,
           2,
           2,
           2,
           2,
           2,
           2,
           2,
           2,
           2,
           2,
           2,
           2,
           2,
           2,
           2,
           2,
           2,
           2,
           2,
           2,
           2
          ],
          "colorscale": [
           [
            0,
            "#00868B"
           ],
           [
            0.5,
            "gray"
           ],
           [
            1,
            "red"
           ]
          ],
          "shape": "hspline"
         },
         "type": "parcats"
        }
       ],
       "layout": {
        "height": 300,
        "margin": {
         "b": 10,
         "l": 50,
         "r": 50,
         "t": 20
        },
        "template": {
         "data": {
          "bar": [
           {
            "error_x": {
             "color": "#2a3f5f"
            },
            "error_y": {
             "color": "#2a3f5f"
            },
            "marker": {
             "line": {
              "color": "#E5ECF6",
              "width": 0.5
             },
             "pattern": {
              "fillmode": "overlay",
              "size": 10,
              "solidity": 0.2
             }
            },
            "type": "bar"
           }
          ],
          "barpolar": [
           {
            "marker": {
             "line": {
              "color": "#E5ECF6",
              "width": 0.5
             },
             "pattern": {
              "fillmode": "overlay",
              "size": 10,
              "solidity": 0.2
             }
            },
            "type": "barpolar"
           }
          ],
          "carpet": [
           {
            "aaxis": {
             "endlinecolor": "#2a3f5f",
             "gridcolor": "white",
             "linecolor": "white",
             "minorgridcolor": "white",
             "startlinecolor": "#2a3f5f"
            },
            "baxis": {
             "endlinecolor": "#2a3f5f",
             "gridcolor": "white",
             "linecolor": "white",
             "minorgridcolor": "white",
             "startlinecolor": "#2a3f5f"
            },
            "type": "carpet"
           }
          ],
          "choropleth": [
           {
            "colorbar": {
             "outlinewidth": 0,
             "ticks": ""
            },
            "type": "choropleth"
           }
          ],
          "contour": [
           {
            "colorbar": {
             "outlinewidth": 0,
             "ticks": ""
            },
            "colorscale": [
             [
              0,
              "#0d0887"
             ],
             [
              0.1111111111111111,
              "#46039f"
             ],
             [
              0.2222222222222222,
              "#7201a8"
             ],
             [
              0.3333333333333333,
              "#9c179e"
             ],
             [
              0.4444444444444444,
              "#bd3786"
             ],
             [
              0.5555555555555556,
              "#d8576b"
             ],
             [
              0.6666666666666666,
              "#ed7953"
             ],
             [
              0.7777777777777778,
              "#fb9f3a"
             ],
             [
              0.8888888888888888,
              "#fdca26"
             ],
             [
              1,
              "#f0f921"
             ]
            ],
            "type": "contour"
           }
          ],
          "contourcarpet": [
           {
            "colorbar": {
             "outlinewidth": 0,
             "ticks": ""
            },
            "type": "contourcarpet"
           }
          ],
          "heatmap": [
           {
            "colorbar": {
             "outlinewidth": 0,
             "ticks": ""
            },
            "colorscale": [
             [
              0,
              "#0d0887"
             ],
             [
              0.1111111111111111,
              "#46039f"
             ],
             [
              0.2222222222222222,
              "#7201a8"
             ],
             [
              0.3333333333333333,
              "#9c179e"
             ],
             [
              0.4444444444444444,
              "#bd3786"
             ],
             [
              0.5555555555555556,
              "#d8576b"
             ],
             [
              0.6666666666666666,
              "#ed7953"
             ],
             [
              0.7777777777777778,
              "#fb9f3a"
             ],
             [
              0.8888888888888888,
              "#fdca26"
             ],
             [
              1,
              "#f0f921"
             ]
            ],
            "type": "heatmap"
           }
          ],
          "heatmapgl": [
           {
            "colorbar": {
             "outlinewidth": 0,
             "ticks": ""
            },
            "colorscale": [
             [
              0,
              "#0d0887"
             ],
             [
              0.1111111111111111,
              "#46039f"
             ],
             [
              0.2222222222222222,
              "#7201a8"
             ],
             [
              0.3333333333333333,
              "#9c179e"
             ],
             [
              0.4444444444444444,
              "#bd3786"
             ],
             [
              0.5555555555555556,
              "#d8576b"
             ],
             [
              0.6666666666666666,
              "#ed7953"
             ],
             [
              0.7777777777777778,
              "#fb9f3a"
             ],
             [
              0.8888888888888888,
              "#fdca26"
             ],
             [
              1,
              "#f0f921"
             ]
            ],
            "type": "heatmapgl"
           }
          ],
          "histogram": [
           {
            "marker": {
             "pattern": {
              "fillmode": "overlay",
              "size": 10,
              "solidity": 0.2
             }
            },
            "type": "histogram"
           }
          ],
          "histogram2d": [
           {
            "colorbar": {
             "outlinewidth": 0,
             "ticks": ""
            },
            "colorscale": [
             [
              0,
              "#0d0887"
             ],
             [
              0.1111111111111111,
              "#46039f"
             ],
             [
              0.2222222222222222,
              "#7201a8"
             ],
             [
              0.3333333333333333,
              "#9c179e"
             ],
             [
              0.4444444444444444,
              "#bd3786"
             ],
             [
              0.5555555555555556,
              "#d8576b"
             ],
             [
              0.6666666666666666,
              "#ed7953"
             ],
             [
              0.7777777777777778,
              "#fb9f3a"
             ],
             [
              0.8888888888888888,
              "#fdca26"
             ],
             [
              1,
              "#f0f921"
             ]
            ],
            "type": "histogram2d"
           }
          ],
          "histogram2dcontour": [
           {
            "colorbar": {
             "outlinewidth": 0,
             "ticks": ""
            },
            "colorscale": [
             [
              0,
              "#0d0887"
             ],
             [
              0.1111111111111111,
              "#46039f"
             ],
             [
              0.2222222222222222,
              "#7201a8"
             ],
             [
              0.3333333333333333,
              "#9c179e"
             ],
             [
              0.4444444444444444,
              "#bd3786"
             ],
             [
              0.5555555555555556,
              "#d8576b"
             ],
             [
              0.6666666666666666,
              "#ed7953"
             ],
             [
              0.7777777777777778,
              "#fb9f3a"
             ],
             [
              0.8888888888888888,
              "#fdca26"
             ],
             [
              1,
              "#f0f921"
             ]
            ],
            "type": "histogram2dcontour"
           }
          ],
          "mesh3d": [
           {
            "colorbar": {
             "outlinewidth": 0,
             "ticks": ""
            },
            "type": "mesh3d"
           }
          ],
          "parcoords": [
           {
            "line": {
             "colorbar": {
              "outlinewidth": 0,
              "ticks": ""
             }
            },
            "type": "parcoords"
           }
          ],
          "pie": [
           {
            "automargin": true,
            "type": "pie"
           }
          ],
          "scatter": [
           {
            "fillpattern": {
             "fillmode": "overlay",
             "size": 10,
             "solidity": 0.2
            },
            "type": "scatter"
           }
          ],
          "scatter3d": [
           {
            "line": {
             "colorbar": {
              "outlinewidth": 0,
              "ticks": ""
             }
            },
            "marker": {
             "colorbar": {
              "outlinewidth": 0,
              "ticks": ""
             }
            },
            "type": "scatter3d"
           }
          ],
          "scattercarpet": [
           {
            "marker": {
             "colorbar": {
              "outlinewidth": 0,
              "ticks": ""
             }
            },
            "type": "scattercarpet"
           }
          ],
          "scattergeo": [
           {
            "marker": {
             "colorbar": {
              "outlinewidth": 0,
              "ticks": ""
             }
            },
            "type": "scattergeo"
           }
          ],
          "scattergl": [
           {
            "marker": {
             "colorbar": {
              "outlinewidth": 0,
              "ticks": ""
             }
            },
            "type": "scattergl"
           }
          ],
          "scattermapbox": [
           {
            "marker": {
             "colorbar": {
              "outlinewidth": 0,
              "ticks": ""
             }
            },
            "type": "scattermapbox"
           }
          ],
          "scatterpolar": [
           {
            "marker": {
             "colorbar": {
              "outlinewidth": 0,
              "ticks": ""
             }
            },
            "type": "scatterpolar"
           }
          ],
          "scatterpolargl": [
           {
            "marker": {
             "colorbar": {
              "outlinewidth": 0,
              "ticks": ""
             }
            },
            "type": "scatterpolargl"
           }
          ],
          "scatterternary": [
           {
            "marker": {
             "colorbar": {
              "outlinewidth": 0,
              "ticks": ""
             }
            },
            "type": "scatterternary"
           }
          ],
          "surface": [
           {
            "colorbar": {
             "outlinewidth": 0,
             "ticks": ""
            },
            "colorscale": [
             [
              0,
              "#0d0887"
             ],
             [
              0.1111111111111111,
              "#46039f"
             ],
             [
              0.2222222222222222,
              "#7201a8"
             ],
             [
              0.3333333333333333,
              "#9c179e"
             ],
             [
              0.4444444444444444,
              "#bd3786"
             ],
             [
              0.5555555555555556,
              "#d8576b"
             ],
             [
              0.6666666666666666,
              "#ed7953"
             ],
             [
              0.7777777777777778,
              "#fb9f3a"
             ],
             [
              0.8888888888888888,
              "#fdca26"
             ],
             [
              1,
              "#f0f921"
             ]
            ],
            "type": "surface"
           }
          ],
          "table": [
           {
            "cells": {
             "fill": {
              "color": "#EBF0F8"
             },
             "line": {
              "color": "white"
             }
            },
            "header": {
             "fill": {
              "color": "#C8D4E3"
             },
             "line": {
              "color": "white"
             }
            },
            "type": "table"
           }
          ]
         },
         "layout": {
          "annotationdefaults": {
           "arrowcolor": "#2a3f5f",
           "arrowhead": 0,
           "arrowwidth": 1
          },
          "autotypenumbers": "strict",
          "coloraxis": {
           "colorbar": {
            "outlinewidth": 0,
            "ticks": ""
           }
          },
          "colorscale": {
           "diverging": [
            [
             0,
             "#8e0152"
            ],
            [
             0.1,
             "#c51b7d"
            ],
            [
             0.2,
             "#de77ae"
            ],
            [
             0.3,
             "#f1b6da"
            ],
            [
             0.4,
             "#fde0ef"
            ],
            [
             0.5,
             "#f7f7f7"
            ],
            [
             0.6,
             "#e6f5d0"
            ],
            [
             0.7,
             "#b8e186"
            ],
            [
             0.8,
             "#7fbc41"
            ],
            [
             0.9,
             "#4d9221"
            ],
            [
             1,
             "#276419"
            ]
           ],
           "sequential": [
            [
             0,
             "#0d0887"
            ],
            [
             0.1111111111111111,
             "#46039f"
            ],
            [
             0.2222222222222222,
             "#7201a8"
            ],
            [
             0.3333333333333333,
             "#9c179e"
            ],
            [
             0.4444444444444444,
             "#bd3786"
            ],
            [
             0.5555555555555556,
             "#d8576b"
            ],
            [
             0.6666666666666666,
             "#ed7953"
            ],
            [
             0.7777777777777778,
             "#fb9f3a"
            ],
            [
             0.8888888888888888,
             "#fdca26"
            ],
            [
             1,
             "#f0f921"
            ]
           ],
           "sequentialminus": [
            [
             0,
             "#0d0887"
            ],
            [
             0.1111111111111111,
             "#46039f"
            ],
            [
             0.2222222222222222,
             "#7201a8"
            ],
            [
             0.3333333333333333,
             "#9c179e"
            ],
            [
             0.4444444444444444,
             "#bd3786"
            ],
            [
             0.5555555555555556,
             "#d8576b"
            ],
            [
             0.6666666666666666,
             "#ed7953"
            ],
            [
             0.7777777777777778,
             "#fb9f3a"
            ],
            [
             0.8888888888888888,
             "#fdca26"
            ],
            [
             1,
             "#f0f921"
            ]
           ]
          },
          "colorway": [
           "#636efa",
           "#EF553B",
           "#00cc96",
           "#ab63fa",
           "#FFA15A",
           "#19d3f3",
           "#FF6692",
           "#B6E880",
           "#FF97FF",
           "#FECB52"
          ],
          "font": {
           "color": "#2a3f5f"
          },
          "geo": {
           "bgcolor": "white",
           "lakecolor": "white",
           "landcolor": "#E5ECF6",
           "showlakes": true,
           "showland": true,
           "subunitcolor": "white"
          },
          "hoverlabel": {
           "align": "left"
          },
          "hovermode": "closest",
          "mapbox": {
           "style": "light"
          },
          "paper_bgcolor": "white",
          "plot_bgcolor": "#E5ECF6",
          "polar": {
           "angularaxis": {
            "gridcolor": "white",
            "linecolor": "white",
            "ticks": ""
           },
           "bgcolor": "#E5ECF6",
           "radialaxis": {
            "gridcolor": "white",
            "linecolor": "white",
            "ticks": ""
           }
          },
          "scene": {
           "xaxis": {
            "backgroundcolor": "#E5ECF6",
            "gridcolor": "white",
            "gridwidth": 2,
            "linecolor": "white",
            "showbackground": true,
            "ticks": "",
            "zerolinecolor": "white"
           },
           "yaxis": {
            "backgroundcolor": "#E5ECF6",
            "gridcolor": "white",
            "gridwidth": 2,
            "linecolor": "white",
            "showbackground": true,
            "ticks": "",
            "zerolinecolor": "white"
           },
           "zaxis": {
            "backgroundcolor": "#E5ECF6",
            "gridcolor": "white",
            "gridwidth": 2,
            "linecolor": "white",
            "showbackground": true,
            "ticks": "",
            "zerolinecolor": "white"
           }
          },
          "shapedefaults": {
           "line": {
            "color": "#2a3f5f"
           }
          },
          "ternary": {
           "aaxis": {
            "gridcolor": "white",
            "linecolor": "white",
            "ticks": ""
           },
           "baxis": {
            "gridcolor": "white",
            "linecolor": "white",
            "ticks": ""
           },
           "bgcolor": "#E5ECF6",
           "caxis": {
            "gridcolor": "white",
            "linecolor": "white",
            "ticks": ""
           }
          },
          "title": {
           "x": 0.05
          },
          "xaxis": {
           "automargin": true,
           "gridcolor": "white",
           "linecolor": "white",
           "ticks": "",
           "title": {
            "standoff": 15
           },
           "zerolinecolor": "white",
           "zerolinewidth": 2
          },
          "yaxis": {
           "automargin": true,
           "gridcolor": "white",
           "linecolor": "white",
           "ticks": "",
           "title": {
            "standoff": 15
           },
           "zerolinecolor": "white",
           "zerolinewidth": 2
          }
         }
        }
       }
      }
     },
     "metadata": {},
     "output_type": "display_data"
    }
   ],
   "source": [
    "a.show()"
   ]
  }
 ],
 "metadata": {
  "kernelspec": {
   "display_name": "Python 3 (ipykernel)",
   "language": "python",
   "name": "python3"
  },
  "language_info": {
   "codemirror_mode": {
    "name": "ipython",
    "version": 3
   },
   "file_extension": ".py",
   "mimetype": "text/x-python",
   "name": "python",
   "nbconvert_exporter": "python",
   "pygments_lexer": "ipython3",
   "version": "3.12.0"
  }
 },
 "nbformat": 4,
 "nbformat_minor": 5
}
